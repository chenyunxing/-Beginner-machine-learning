{
 "cells": [
  {
   "cell_type": "code",
   "execution_count": 2,
   "metadata": {},
   "outputs": [
    {
     "name": "stdout",
     "output_type": "stream",
     "text": [
      "[ 0.  0.  1.  0.  1.  1.  0.  0.  1.  0.]\n",
      "[array([ 1.,  0.,  1.,  0.,  1.,  1.,  0.,  0.,  1.,  0.])]\n",
      "[1]\n"
     ]
    }
   ],
   "source": [
    "# 引入机器学习决策树需要的包\n",
    "from sklearn.feature_extraction import DictVectorizer\n",
    "import csv\n",
    "from sklearn import preprocessing\n",
    "from sklearn import tree\n",
    "from sklearn.externals.six import StringIO\n",
    "\n",
    "# 打开数据文件\n",
    "# allElectronicsData = open(r'D:\\python\\star\\test.csv','r')\n",
    "allElectronicsData = open(r'test.csv','r')\n",
    "reader = csv.reader(allElectronicsData)\n",
    "headers = next(reader)\n",
    "\n",
    "# print(headers)\n",
    "\n",
    "featureList = []\n",
    "labelList = []\n",
    "\n",
    "# 读取对应文件内容进相应列表\n",
    "for row in reader:\n",
    "    labelList.append( row[len(row) - 1])\n",
    "    rowDict={}\n",
    "    for i in range(1 , len(row) - 1):\n",
    "        rowDict[headers[i]] = row[i]\n",
    "    featureList.append(rowDict)\n",
    "\n",
    "# print(featureList)\n",
    "\n",
    "# 对数据进行预处理\n",
    "vec = DictVectorizer()\n",
    "dummyX = vec.fit_transform(featureList).toarray()\n",
    "\n",
    "# print(str(dummyX))\n",
    "# print(vec.get_feature_names())\n",
    "\n",
    "# print(str(labelList))\n",
    "\n",
    "lb = preprocessing.LabelBinarizer()\n",
    "dummyY = lb.fit_transform(labelList)\n",
    "# print(str(dummyY))\n",
    "\n",
    "# 设置分类标准并进行预测树的构建\n",
    "clf = tree.DecisionTreeClassifier(criterion='entropy')\n",
    "clf = clf.fit(dummyX,dummyY)\n",
    "# print(str(clf))\n",
    "\n",
    "# 将写出的预测树写入a.dot\n",
    "with open(\"a.dot\",'w') as f:\n",
    "    f = tree.export_graphviz(clf,feature_names=vec.get_feature_names(),out_file = f)\n",
    "\n",
    "# 转化dot文件为pdf文件为命令行运行\n",
    "# dot -Tpdf ins.dot -o output.pdf\n",
    "\n",
    "# 随意创建一组数据进行预测\n",
    "oneRowX = dummyX[0 , : ]\n",
    "print(str(oneRowX))\n",
    "\n",
    "newRowX = [oneRowX,]\n",
    "newRowX[0][0] = 1\n",
    "newRowX[0][1] = 0\n",
    "print(newRowX)\n",
    "\n",
    "# 开始预测\n",
    "predictedY = clf.predict(newRowX)\n",
    "print(str(predictedY))\n",
    "\n"
   ]
  },
  {
   "cell_type": "code",
   "execution_count": null,
   "metadata": {
    "collapsed": true
   },
   "outputs": [],
   "source": []
  },
  {
   "cell_type": "code",
   "execution_count": null,
   "metadata": {
    "collapsed": true
   },
   "outputs": [],
   "source": []
  }
 ],
 "metadata": {
  "kernelspec": {
   "display_name": "Python 3",
   "language": "python",
   "name": "python3"
  },
  "language_info": {
   "codemirror_mode": {
    "name": "ipython",
    "version": 3
   },
   "file_extension": ".py",
   "mimetype": "text/x-python",
   "name": "python",
   "nbconvert_exporter": "python",
   "pygments_lexer": "ipython3",
   "version": "3.6.3"
  }
 },
 "nbformat": 4,
 "nbformat_minor": 2
}
