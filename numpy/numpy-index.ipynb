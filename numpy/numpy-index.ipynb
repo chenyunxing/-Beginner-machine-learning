{
 "cells": [
  {
   "cell_type": "code",
   "execution_count": 2,
   "metadata": {},
   "outputs": [
    {
     "data": {
      "text/plain": [
       "array([[ 1,  2,  3,  4],\n",
       "       [ 5,  6,  7,  8],\n",
       "       [ 9, 10, 11, 12]])"
      ]
     },
     "execution_count": 2,
     "metadata": {},
     "output_type": "execute_result"
    }
   ],
   "source": [
    "import numpy\n",
    "# 创建一个3*4的数组作为例子演示\n",
    "a=numpy.array([1,2,3,4,5,6,7,8,9,10,11,12])\n",
    "a=a.reshape([3,4])\n",
    "a"
   ]
  },
  {
   "cell_type": "code",
   "execution_count": 14,
   "metadata": {},
   "outputs": [
    {
     "name": "stdout",
     "output_type": "stream",
     "text": [
      "7\n",
      "[7 5]\n",
      "[[ 7  8]\n",
      " [ 5 12]]\n",
      "[1 5]\n",
      "[3 4]\n",
      "[0 1 2]\n",
      "[[ 1  6  3  4]\n",
      " [ 5 10  7  8]\n",
      " [ 9 14  5 12]]\n",
      "[[ 1  5  3  4]\n",
      " [ 5 10  7  8]\n",
      " [ 9 14  5 12]]\n",
      "[[False False False False]\n",
      " [False False False False]\n",
      " [False  True False  True]]\n",
      "[14 12]\n"
     ]
    }
   ],
   "source": [
    "# 这样返回的是一个值，对应意思为，a的第二行，第三个数\n",
    "print(a[1,2])\n",
    "# 这样返回的是一个一维数组，对应参数意思为，a的第二行到最后一行，每个第二行的第三个数组成的一维数组\n",
    "print(a[1:,2])\n",
    "# 这样返回的是一个二维数组，意思是，a的第二行到最后一行，然后第二个参数到最后一个参数组成的二维数组\n",
    "print(a[1:,2:])\n",
    "# 要是是参数中含有-1指，从那个数组从后往前数\n",
    "# 这个例子就是第一行从第一个元素到倒数第三个元素的一维数组【后一个参数最后的数字不会被概括】\n",
    "print(a[0,0:-2])\n",
    "# 这个例子是从第一行倒数第二个元素的到最后的一维数组\n",
    "print(a[0,-2:])\n",
    "# 可以采用arange()函数进行产生一个序列下是参数，0-2的一维数组,arange也可以有两个参数如arange(3,7)产生的就是3,4,5,6,\n",
    "print(numpy.arange(3))\n",
    "# 可以采用arange()对数组进行批量操作，如把数组每一行的的第二个参数值加一\n",
    "a[numpy.arange(3),1]+=1\n",
    "print(a)\n",
    "# 数组索引的每一个值都可以是一个数组,如下意思是第1行的第2个元素和第三行的第3个元素等于5\n",
    "a[[0,2],[1,2]]=5\n",
    "print(a)\n",
    "# 对于数组内元素判断大小有很方便的操作\n",
    "result_a=a>10\n",
    "print(result_a)\n",
    "b=a[result_a]\n",
    "print(b)"
   ]
  },
  {
   "cell_type": "code",
   "execution_count": null,
   "metadata": {
    "collapsed": true
   },
   "outputs": [],
   "source": []
  }
 ],
 "metadata": {
  "kernelspec": {
   "display_name": "Python 3",
   "language": "python",
   "name": "python3"
  },
  "language_info": {
   "codemirror_mode": {
    "name": "ipython",
    "version": 3
   },
   "file_extension": ".py",
   "mimetype": "text/x-python",
   "name": "python",
   "nbconvert_exporter": "python",
   "pygments_lexer": "ipython3",
   "version": "3.6.3"
  }
 },
 "nbformat": 4,
 "nbformat_minor": 2
}
