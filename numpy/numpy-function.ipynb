{
 "cells": [
  {
   "cell_type": "code",
   "execution_count": 6,
   "metadata": {},
   "outputs": [
    {
     "name": "stdout",
     "output_type": "stream",
     "text": [
      "[[1 2]\n",
      " [3 4]]\n",
      "[[ 9 10]\n",
      " [11 12]]\n"
     ]
    }
   ],
   "source": [
    "import numpy\n",
    "# 创建一个2*2和2*2的数组作为例子演示\n",
    "a=numpy.array([1,2,3,4])\n",
    "a=a.reshape([2,2])\n",
    "b=numpy.array([9,10,11,12])\n",
    "b=b.reshape([2,2])\n",
    "print(a)\n",
    "print(b)"
   ]
  },
  {
   "cell_type": "code",
   "execution_count": 18,
   "metadata": {
    "scrolled": true
   },
   "outputs": [
    {
     "name": "stdout",
     "output_type": "stream",
     "text": [
      "[[10 12]\n",
      " [14 16]]\n",
      "[[-8 -8]\n",
      " [-8 -8]]\n",
      "[[ 9 20]\n",
      " [33 48]]\n",
      "[[ 0.11111111  0.2       ]\n",
      " [ 0.27272727  0.33333333]]\n",
      "[[10 12]\n",
      " [14 16]]\n",
      "[[-8 -8]\n",
      " [-8 -8]]\n",
      "[[ 9 20]\n",
      " [33 48]]\n",
      "[[ 0.11111111  0.2       ]\n",
      " [ 0.27272727  0.33333333]]\n",
      "[[ 1.          1.41421356]\n",
      " [ 1.73205081  2.        ]]\n",
      "[[31 34]\n",
      " [71 78]]\n",
      "[[31 34]\n",
      " [71 78]]\n",
      "10\n",
      "[4 6]\n",
      "[3 7]\n",
      "2.5\n",
      "4.740404629574038\n",
      "[[1 2 1 2 1 2]\n",
      " [3 4 3 4 3 4]\n",
      " [1 2 1 2 1 2]\n",
      " [3 4 3 4 3 4]]\n",
      "[[0 1]\n",
      " [0 1]]\n",
      "[[1 3]\n",
      " [2 4]]\n",
      "[[1 3]\n",
      " [2 4]]\n"
     ]
    }
   ],
   "source": [
    "# numpy中的数学运算和常用函数\n",
    "# 数组相加相减相乘相除都是对应位置的数字进行对应操作的\n",
    "c=a+b\n",
    "print(c)\n",
    "c=a-b\n",
    "print(c)\n",
    "c=a*b\n",
    "print(c)\n",
    "c=a/b\n",
    "print(c)\n",
    "# 这些在numpy中都有对应函数\n",
    "c=numpy.add(a,b)\n",
    "print(c)\n",
    "c=numpy.subtract(a,b)\n",
    "print(c)\n",
    "c=numpy.multiply(a,b)\n",
    "print(c)\n",
    "c=numpy.divide(a,b)\n",
    "print(c)\n",
    "# 但是额外也有函数，如开方\n",
    "print(numpy.sqrt(a))\n",
    "# 矩阵相乘函数,前提条件是第一个参数列数等于第二个参数行数\n",
    "print(numpy.dot(a,b))\n",
    "print(a.dot(b))\n",
    "# 求和函数\n",
    "print(numpy.sum(a))\n",
    "# 另外numpy可以单独对行或者对列进行操作，0就是对列，1就是对行\n",
    "print(numpy.sum(a,axis=0))\n",
    "print(numpy.sum(a,axis=1))\n",
    "# mean函数求平均值，也具有axis参数，可以针对行列\n",
    "print(numpy.mean(a))\n",
    "# 随机数函数，下面是产生1-5之间的随机小数\n",
    "print(numpy.random.uniform(1,5))\n",
    "# 重复函数,第二个参数为元组，第一个值代表在列上重复的次数，第二个代表行上重复次数\n",
    "print(numpy.tile(a,(2,3)))\n",
    "# 排序函数，返回每一行的值的大小的排序,也具备axis属性，可以设置行列\n",
    "print(a.argsort())\n",
    "# 矩阵转置函数\n",
    "print(a.T)\n",
    "print(numpy.transpose(a))"
   ]
  },
  {
   "cell_type": "code",
   "execution_count": null,
   "metadata": {
    "collapsed": true
   },
   "outputs": [],
   "source": []
  }
 ],
 "metadata": {
  "kernelspec": {
   "display_name": "Python 3",
   "language": "python",
   "name": "python3"
  },
  "language_info": {
   "codemirror_mode": {
    "name": "ipython",
    "version": 3
   },
   "file_extension": ".py",
   "mimetype": "text/x-python",
   "name": "python",
   "nbconvert_exporter": "python",
   "pygments_lexer": "ipython3",
   "version": "3.6.3"
  }
 },
 "nbformat": 4,
 "nbformat_minor": 2
}
