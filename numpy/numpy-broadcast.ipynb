{
 "cells": [
  {
   "cell_type": "code",
   "execution_count": 2,
   "metadata": {},
   "outputs": [
    {
     "name": "stdout",
     "output_type": "stream",
     "text": [
      "[[1 2 3]\n",
      " [4 5 6]\n",
      " [7 8 9]]\n",
      "[1 2 3]\n"
     ]
    }
   ],
   "source": [
    "# 创建样例数组\n",
    "import numpy\n",
    "a = numpy.array([1,2,3,4,5,6,7,8,9])\n",
    "a = a.reshape(3,3)\n",
    "print(a)\n",
    "b = numpy.array([1,2,3])\n",
    "print(b)"
   ]
  },
  {
   "cell_type": "code",
   "execution_count": 6,
   "metadata": {},
   "outputs": [
    {
     "name": "stdout",
     "output_type": "stream",
     "text": [
      "[[ 5 10 15]\n",
      " [ 8 13 18]\n",
      " [11 16 21]]\n",
      "[[ 6 12 18]\n",
      " [ 9 15 21]\n",
      " [12 18 24]]\n",
      "[[ 7 14 21]\n",
      " [10 17 24]\n",
      " [13 20 27]]\n"
     ]
    }
   ],
   "source": [
    "# 需要进行让a每一行加上b\n",
    "# 可以有的方法为\n",
    "# 循环\n",
    "for i in range(3):\n",
    "    a[i,:] += b\n",
    "print(a)\n",
    "# 使用函数循环b\n",
    "a = a + numpy.tile(b,(3,1))\n",
    "print(a)\n",
    "# 自带的广播，会让不同维度的数组进行调整成同纬度然后相加\n",
    "print( a + b )"
   ]
  },
  {
   "cell_type": "code",
   "execution_count": null,
   "metadata": {
    "collapsed": true
   },
   "outputs": [],
   "source": []
  }
 ],
 "metadata": {
  "kernelspec": {
   "display_name": "Python 3",
   "language": "python",
   "name": "python3"
  },
  "language_info": {
   "codemirror_mode": {
    "name": "ipython",
    "version": 3
   },
   "file_extension": ".py",
   "mimetype": "text/x-python",
   "name": "python",
   "nbconvert_exporter": "python",
   "pygments_lexer": "ipython3",
   "version": "3.6.3"
  }
 },
 "nbformat": 4,
 "nbformat_minor": 2
}
