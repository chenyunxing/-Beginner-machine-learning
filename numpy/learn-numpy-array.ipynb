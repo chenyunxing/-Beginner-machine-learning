{
 "cells": [
  {
   "cell_type": "code",
   "execution_count": 2,
   "metadata": {},
   "outputs": [],
   "source": [
    "# 导入Numpy包\n",
    "import numpy\n",
    "# 创建一个numpy数组\n",
    "a = numpy.array([1,2,4,5,7,8])\n"
   ]
  },
  {
   "cell_type": "code",
   "execution_count": 3,
   "metadata": {},
   "outputs": [
    {
     "name": "stdout",
     "output_type": "stream",
     "text": [
      "[1 2 4 5 7 8]\n"
     ]
    },
    {
     "data": {
      "text/plain": [
       "numpy.ndarray"
      ]
     },
     "execution_count": 3,
     "metadata": {},
     "output_type": "execute_result"
    }
   ],
   "source": [
    "# 输出数组查看\n",
    "print(a)\n",
    "# 查看a的类型\n",
    "type(a)"
   ]
  },
  {
   "cell_type": "code",
   "execution_count": 4,
   "metadata": {},
   "outputs": [
    {
     "data": {
      "text/plain": [
       "(6,)"
      ]
     },
     "execution_count": 4,
     "metadata": {},
     "output_type": "execute_result"
    }
   ],
   "source": [
    "# 使用Numpy的内置函数shape查看数组的行数和列数\n",
    "a.shape"
   ]
  },
  {
   "cell_type": "code",
   "execution_count": 19,
   "metadata": {},
   "outputs": [
    {
     "ename": "TypeError",
     "evalue": "'tuple' object cannot be interpreted as an integer",
     "output_type": "error",
     "traceback": [
      "\u001b[1;31m---------------------------------------------------------------------------\u001b[0m",
      "\u001b[1;31mTypeError\u001b[0m                                 Traceback (most recent call last)",
      "\u001b[1;32m<ipython-input-19-91f34a5aa905>\u001b[0m in \u001b[0;36m<module>\u001b[1;34m()\u001b[0m\n\u001b[0;32m      1\u001b[0m \u001b[1;31m# 重新定义数组的行列（2,-1）代表2行，-1代表自适应，即数据值除以行数\u001b[0m\u001b[1;33m\u001b[0m\u001b[1;33m\u001b[0m\u001b[0m\n\u001b[1;32m----> 2\u001b[1;33m \u001b[0mprint\u001b[0m\u001b[1;33m(\u001b[0m\u001b[0ma\u001b[0m\u001b[1;33m.\u001b[0m\u001b[0mreshape\u001b[0m\u001b[1;33m(\u001b[0m\u001b[1;33m(\u001b[0m\u001b[1;36m2\u001b[0m\u001b[1;33m,\u001b[0m\u001b[1;33m-\u001b[0m\u001b[1;36m1\u001b[0m\u001b[1;33m)\u001b[0m\u001b[1;33m,\u001b[0m\u001b[1;33m(\u001b[0m\u001b[1;36m2\u001b[0m\u001b[1;33m,\u001b[0m\u001b[1;33m-\u001b[0m\u001b[1;36m1\u001b[0m\u001b[1;33m)\u001b[0m\u001b[1;33m)\u001b[0m\u001b[1;33m)\u001b[0m\u001b[1;33m\u001b[0m\u001b[0m\n\u001b[0m\u001b[0;32m      3\u001b[0m \u001b[0mprint\u001b[0m\u001b[1;33m(\u001b[0m\u001b[0ma\u001b[0m\u001b[1;33m.\u001b[0m\u001b[0mshape\u001b[0m\u001b[1;33m)\u001b[0m\u001b[1;33m\u001b[0m\u001b[0m\n\u001b[0;32m      4\u001b[0m \u001b[1;31m# 此处会发现a.shape的值没有发生变化，原因是a.reshape(2，-1)不是直接改变a而是返回一个重新排列获得a,想要影响到原数组就需要如下操作\u001b[0m\u001b[1;33m\u001b[0m\u001b[1;33m\u001b[0m\u001b[0m\n\u001b[0;32m      5\u001b[0m \u001b[0ma\u001b[0m\u001b[1;33m=\u001b[0m\u001b[0ma\u001b[0m\u001b[1;33m.\u001b[0m\u001b[0mreshape\u001b[0m\u001b[1;33m(\u001b[0m\u001b[1;36m2\u001b[0m\u001b[1;33m,\u001b[0m\u001b[1;33m-\u001b[0m\u001b[1;36m1\u001b[0m\u001b[1;33m)\u001b[0m\u001b[1;33m\u001b[0m\u001b[0m\n",
      "\u001b[1;31mTypeError\u001b[0m: 'tuple' object cannot be interpreted as an integer"
     ]
    }
   ],
   "source": [
    "# 重新定义数组的行列（2,-1）代表2行，-1代表自适应，即数据值除以行数\n",
    "print(a.reshape(2,-1))\n",
    "print(a.shape)\n",
    "# 此处会发现a.shape的值没有发生变化，原因是a.reshape(2，-1)不是直接改变a而是返回一个重新排列获得a,想要影响到原数组就需要如下操作\n",
    "a=a.reshape(2,-1)\n",
    "print(a.shape)"
   ]
  },
  {
   "cell_type": "code",
   "execution_count": 12,
   "metadata": {},
   "outputs": [
    {
     "name": "stdout",
     "output_type": "stream",
     "text": [
      "5\n"
     ]
    }
   ],
   "source": [
    "# 重新排列a后想要对应位置输出可以不用像2维数组那样a[1][2]之类的输出结果\n",
    "# 比如想输出5，可以如下,第一个参数为行号，第二个为列号，都是从零开始计算\n",
    "print(a[1,0])"
   ]
  },
  {
   "cell_type": "code",
   "execution_count": 13,
   "metadata": {},
   "outputs": [
    {
     "name": "stdout",
     "output_type": "stream",
     "text": [
      "[[ 1  2  4]\n",
      " [20  7  8]]\n"
     ]
    }
   ],
   "source": [
    "# 同理也可以进行赋值\n",
    "a[1,0]=20\n",
    "print(a)"
   ]
  },
  {
   "cell_type": "code",
   "execution_count": 28,
   "metadata": {},
   "outputs": [
    {
     "name": "stdout",
     "output_type": "stream",
     "text": [
      "[[ 0.  0.]\n",
      " [ 0.  0.]\n",
      " [ 0.  0.]]\n",
      "\n",
      "[[ 1.  1.]\n",
      " [ 1.  1.]\n",
      " [ 1.  1.]]\n",
      "\n",
      "[[5 5]\n",
      " [5 5]\n",
      " [5 5]]\n",
      "\n",
      "[[ 1.  0.  0.  0.]\n",
      " [ 0.  1.  0.  0.]\n",
      " [ 0.  0.  1.  0.]\n",
      " [ 0.  0.  0.  1.]]\n",
      "\n",
      "[[ 0.05572378  0.55175522  0.42465366  0.87221673]\n",
      " [ 0.67659518  0.15914015  0.36377084  0.19661748]\n",
      " [ 0.32019522  0.33655919  0.20262926  0.03259454]]\n",
      "\n"
     ]
    }
   ],
   "source": [
    "# 其他numpy的创建数组函数\n",
    "# zeros创建初始元素全为0的矩阵，下面为创建3*2的矩阵，3行2列,值得注意的一点是，zeros的传入参数只有一个是一个元组(3,2)因此需要两个括号包围3,2\n",
    "b = numpy.zeros((3,2))\n",
    "print(b)\n",
    "print()\n",
    "# 同理，ones\n",
    "c = numpy.ones((3,2))\n",
    "print(c)\n",
    "print()\n",
    "# full函数，如下用法，第一个为元组，代表行列，第二个代表初始化元素\n",
    "d = numpy.full((3,2),5)\n",
    "print(d)\n",
    "print()\n",
    "# eye函数，创建单位矩阵，即左上角到右下角的那条对角线为1外其余都为0的n*n矩阵\n",
    "e = numpy.eye(4)\n",
    "print(e)\n",
    "print()\n",
    "# random.random函数，作用是创建一个矩阵，矩阵中每一个元素的数值都是随机的0-1之间的数\n",
    "f = numpy.random.random((3,4))\n",
    "print(f)\n",
    "print()"
   ]
  },
  {
   "cell_type": "code",
   "execution_count": null,
   "metadata": {
    "collapsed": true
   },
   "outputs": [],
   "source": []
  }
 ],
 "metadata": {
  "kernelspec": {
   "display_name": "Python 3",
   "language": "python",
   "name": "python3"
  },
  "language_info": {
   "codemirror_mode": {
    "name": "ipython",
    "version": 3
   },
   "file_extension": ".py",
   "mimetype": "text/x-python",
   "name": "python",
   "nbconvert_exporter": "python",
   "pygments_lexer": "ipython3",
   "version": "3.6.3"
  }
 },
 "nbformat": 4,
 "nbformat_minor": 2
}
