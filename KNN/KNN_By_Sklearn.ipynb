{
 "cells": [
  {
   "cell_type": "markdown",
   "metadata": {},
   "source": [
    "## 加载数据与基础包"
   ]
  },
  {
   "cell_type": "code",
   "execution_count": 6,
   "metadata": {},
   "outputs": [],
   "source": [
    "import numpy as np\n",
    "import matplotlib\n",
    "import matplotlib.pyplot as plt\n",
    "from sklearn import datasets\n",
    "此次加载的数据是手写数字图像8*8像素数据\n",
    "digits = datasets.load_digits()"
   ]
  },
  {
   "cell_type": "markdown",
   "metadata": {},
   "source": [
    "## 加载具体数据"
   ]
  },
  {
   "cell_type": "code",
   "execution_count": 16,
   "metadata": {},
   "outputs": [
    {
     "name": "stdout",
     "output_type": "stream",
     "text": [
      "(1797, 64)\n"
     ]
    }
   ],
   "source": [
    "# 输出样本介绍\n",
    "# print(digits.DESCR)\n",
    "# 加载数据集,sklearn里的数据集都是data\n",
    "X = digits.data\n",
    "#加载标记集\n",
    "Y = digits.target\n",
    "# 输出数据集大小，并由此确认加载成功数据\n",
    "print(X.shape)"
   ]
  },
  {
   "cell_type": "markdown",
   "metadata": {},
   "source": [
    "## 绘制出数据代表图片，使得对数据有更多了解"
   ]
  },
  {
   "cell_type": "code",
   "execution_count": 19,
   "metadata": {},
   "outputs": [
    {
     "data": {
      "image/png": "[encoded data removed]",
      "text/plain": [
       "<matplotlib.figure.Figure at 0x1f4a34b0ba8>"
      ]
     },
     "metadata": {},
     "output_type": "display_data"
    },
    {
     "name": "stdout",
     "output_type": "stream",
     "text": [
      "6\n"
     ]
    }
   ],
   "source": [
    "# 提取样例数据中的其中一个数据\n",
    "# 提取的原因是在此处采用绘图进行绘制图像\n",
    "test_num = 321\n",
    "some_data = X[test_num]\n",
    "image = some_data.reshape(8, 8)\n",
    "plt.imshow(image, cmap = matplotlib.cm.binary)\n",
    "plt.show()\n",
    "print(Y[test_num])"
   ]
  },
  {
   "cell_type": "markdown",
   "metadata": {},
   "source": [
    "## 切割训练集与测试集"
   ]
  },
  {
   "cell_type": "code",
   "execution_count": 20,
   "metadata": {},
   "outputs": [
    {
     "name": "stdout",
     "output_type": "stream",
     "text": [
      "(1437, 64)\n"
     ]
    }
   ],
   "source": [
    "# 加载将数据集切割成训练集与测试集的包\n",
    "# 这个包作用是将数据集打乱，然后分成两部分\n",
    "from sklearn.model_selection import train_test_split\n",
    "# 下面的函数是切割函数，第一二个参数是数据集与结果集\n",
    "# 然后test_size意思是将数据集百分之多少当做测试集\n",
    "# 第random_state是随机种子用于保证随机后的数据的可重现性\n",
    "X_train, X_test, Y_train, Y_test = train_test_split(X , Y, test_size=0.2, random_state=111)\n",
    "# 输出训练集的行数，并且以此确定数据集成功分割\n",
    "print(X_train.shape)"
   ]
  },
  {
   "cell_type": "markdown",
   "metadata": {},
   "source": [
    "## 具体训练过程"
   ]
  },
  {
   "cell_type": "code",
   "execution_count": 21,
   "metadata": {},
   "outputs": [
    {
     "name": "stdout",
     "output_type": "stream",
     "text": [
      "0.977777777778\n",
      "352\n",
      "[ 0.97777778]\n"
     ]
    }
   ],
   "source": [
    "# 从sklearn模块中的neighbors加载KNeighborsClassfier分类器\n",
    "from sklearn.neighbors import KNeighborsClassifier\n",
    "# 初始化分类器，在此同时可以进行超参数的调参\n",
    "# 下面的超参数是k值，即最近邻队中的投票总数\n",
    "KNN = KNeighborsClassifier(n_neighbors=5)\n",
    "# 输入训练集进行训练数据\n",
    "KNN.fit(X_train,Y_train)\n",
    "# 进行预测\n",
    "Y_predict = KNN.predict(X_test)\n",
    "# 输出训练结果，并且由此确认训练成功\n",
    "# print(Y_predict)\n",
    "# sklearn中的自带的函数测试结果的准确性\n",
    "print(KNN.score(X_test, Y_test))\n",
    "# 自行计算测试集中正确结果的个数\n",
    "right = sum(Y_predict == Y_test)\n",
    "print(right)\n",
    "# 计算正确率\n",
    "print(right/Y_test.shape)"
   ]
  },
  {
   "cell_type": "markdown",
   "metadata": {},
   "source": [
    "## 网格搜索"
   ]
  },
  {
   "cell_type": "code",
   "execution_count": 29,
   "metadata": {
    "collapsed": true
   },
   "outputs": [],
   "source": [
    "# 以以下格式设置需要搜索的参数\n",
    "param_grid = [\n",
    "    {\n",
    "        'weights': ['uniform'],\n",
    "        'n_neighbors': [i for i in range(1, 15)]\n",
    "    },\n",
    "    {\n",
    "        'weights': ['distance'],\n",
    "        'n_neighbors': [i for i in range(1, 15)],\n",
    "        'p': [i for i in range(1,6)]\n",
    "    }\n",
    "]"
   ]
  },
  {
   "cell_type": "code",
   "execution_count": 32,
   "metadata": {},
   "outputs": [],
   "source": [
    "# 加载网格搜索的包\n",
    "from sklearn.model_selection import GridSearchCV\n",
    "# 创建用于网格搜索的KNN分类器\n",
    "KNN_GS = KNeighborsClassifier()\n",
    "# 将分类器和参数变量传入网格搜索分类器进行初始化\n",
    "# 参数的意思是,n_jobs是指用计算机的几个核来计算，-1指用全部核计算。\n",
    "# verbose指的是在计算过程之中输出的相关信息量\n",
    "grid_search = GridSearchCV( KNN_GS, param_grid, n_jobs=-1, verbose=2)"
   ]
  },
  {
   "cell_type": "code",
   "execution_count": 33,
   "metadata": {},
   "outputs": [
    {
     "name": "stdout",
     "output_type": "stream",
     "text": [
      "Fitting 3 folds for each of 84 candidates, totalling 252 fits\n"
     ]
    },
    {
     "name": "stderr",
     "output_type": "stream",
     "text": [
      "[Parallel(n_jobs=-1)]: Done  25 tasks      | elapsed:    2.7s\n",
      "[Parallel(n_jobs=-1)]: Done 146 tasks      | elapsed:   28.8s\n"
     ]
    },
    {
     "name": "stdout",
     "output_type": "stream",
     "text": [
      "Wall time: 1min 3s\n"
     ]
    },
    {
     "name": "stderr",
     "output_type": "stream",
     "text": [
      "[Parallel(n_jobs=-1)]: Done 252 out of 252 | elapsed:  1.0min finished\n"
     ]
    },
    {
     "data": {
      "text/plain": [
       "GridSearchCV(cv=None, error_score='raise',\n",
       "       estimator=KNeighborsClassifier(algorithm='auto', leaf_size=30, metric='minkowski',\n",
       "           metric_params=None, n_jobs=1, n_neighbors=5, p=2,\n",
       "           weights='uniform'),\n",
       "       fit_params=None, iid=True, n_jobs=-1,\n",
       "       param_grid=[{'weights': ['uniform'], 'n_neighbors': [1, 2, 3, 4, 5, 6, 7, 8, 9, 10, 11, 12, 13, 14]}, {'weights': ['distance'], 'n_neighbors': [1, 2, 3, 4, 5, 6, 7, 8, 9, 10, 11, 12, 13, 14], 'p': [1, 2, 3, 4, 5]}],\n",
       "       pre_dispatch='2*n_jobs', refit=True, return_train_score='warn',\n",
       "       scoring=None, verbose=2)"
      ]
     },
     "execution_count": 33,
     "metadata": {},
     "output_type": "execute_result"
    }
   ],
   "source": [
    "%%time\n",
    "# 开始进行模型训练,由于会很长时间，所以用%%time来计时\n",
    "grid_search.fit(X_train, Y_train)\n",
    "# 在输出的第一行信息为\n",
    "# Fitting 3 folds for each of 84 candidates, totalling 252 fits\n",
    "# 意思是为84个方案中的每一个拟合3次，共计252次"
   ]
  },
  {
   "cell_type": "code",
   "execution_count": 38,
   "metadata": {},
   "outputs": [
    {
     "name": "stdout",
     "output_type": "stream",
     "text": [
      "0.989561586639\n",
      "{'n_neighbors': 1, 'p': 4, 'weights': 'distance'}\n"
     ]
    }
   ],
   "source": [
    "# 这一句话意思是获取所获得的最佳模型\n",
    "KNN_best = grid_search.estimator\n",
    "# 这一句话意思是输出最优模型的最佳成绩\n",
    "# 不过要注意是这里计算最佳成绩的计算方法与分类器中的不同\n",
    "print(grid_search.best_score_)\n",
    "# 这里是输出最佳模型遍历列表中获取的最佳参数\n",
    "print(grid_search.best_params_)"
   ]
  },
  {
   "cell_type": "code",
   "execution_count": 40,
   "metadata": {},
   "outputs": [
    {
     "data": {
      "text/plain": [
       "0.97777777777777775"
      ]
     },
     "execution_count": 40,
     "metadata": {},
     "output_type": "execute_result"
    }
   ],
   "source": [
    "# 此处为用模型的具体方法计算成绩\n",
    "KNN_best.fit(X_train, Y_train)\n",
    "KNN_best.score(X_test, Y_test)"
   ]
  },
  {
   "cell_type": "code",
   "execution_count": null,
   "metadata": {
    "collapsed": true
   },
   "outputs": [],
   "source": []
  }
 ],
 "metadata": {
  "kernelspec": {
   "display_name": "Python 3",
   "language": "python",
   "name": "python3"
  },
  "language_info": {
   "codemirror_mode": {
    "name": "ipython",
    "version": 3
   },
   "file_extension": ".py",
   "mimetype": "text/x-python",
   "name": "python",
   "nbconvert_exporter": "python",
   "pygments_lexer": "ipython3",
   "version": "3.6.3"
  }
 },
 "nbformat": 4,
 "nbformat_minor": 2
}
